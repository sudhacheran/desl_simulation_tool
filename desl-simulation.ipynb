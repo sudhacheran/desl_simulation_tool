{
 "cells": [
  {
   "cell_type": "code",
   "execution_count": null,
   "id": "8d9625e2-5d91-45d4-aeb6-4c0756c3dee7",
   "metadata": {},
   "outputs": [
    {
     "ename": "",
     "evalue": "",
     "output_type": "error",
     "traceback": [
      "\u001b[1;31mRunning cells with 'Python' requires the ipykernel package.\n",
      "\u001b[1;31mRun the following command to install 'ipykernel' into the Python environment. \n",
      "\u001b[1;31mCommand: '/opt/homebrew/bin/python3.12 -m pip install ipykernel -U --user --force-reinstall'"
     ]
    }
   ],
   "source": [
    "from rdkit import Chem\n",
    "from rdkit.Chem import Descriptors, Draw"
   ]
  },
  {
   "cell_type": "code",
   "execution_count": null,
   "id": "6fb1e45e-e595-4b36-a4e9-08c91bf5cfa2",
   "metadata": {},
   "outputs": [],
   "source": [
    "from utils.desl_simulation import find_functional_groups_counts, calculate_pdi, simulate_DES_deployermization\n",
    "\n",
    "# Configuring MWL structure in SMILES representation\n",
    "smile = \"OC=1C=CC(=CC1OC)C(O)C(OC=2C=CC(=CC2OC)C(O)C(OC=3C=CC(=CC3OC)C(O)C(OC=4C=CC(=CC4OC)C(O)C(OC=5C=CC(=CC5OC)C(O)C(OC=6C=CC(=CC6OC)C7OCC8C(OCC78)C9=CC(OC)=C%10OC(C%11=CC(OC)=C%12OC(C=%13C=CC(O)=C(OC)C%13)C(C%12=C%11)CO)C(OC%14=C(OC)C=C(C=C%14C%10=C9)C%15OCC%16C(OCC%15%16)C%17=CC(OC)=C%18OC(C=%19C=CC(OC(CO)C(O)C=%20C=CC(O)=C(OC)C%20)=C(OC)C%19)C(C%18=C%17)CO)CO)CO)CO)CO)CO)CO\"\n",
    "mol = Chem.MolFromSmiles(smile)\n",
    "\n",
    "# Precompute necessary molecular characteristics\n",
    "canonical_smiles = Chem.CanonSmiles(smile)\n",
    "molecular_weight = int(Descriptors.ExactMolWt(mol))\n",
    "functional_groups = find_functional_groups_counts(smile)\n",
    "pdi = round(calculate_pdi(smile)[2], 1)\n",
    "\n",
    "# Output the molecular structural characteristics\n",
    "print(\"\\n\\nDES Lignin : Simulation Model\")\n",
    "print(\"=============================\\n\")\n",
    "\n",
    "print(\"\\nINPUT\")\n",
    "print(\"======\")\n",
    "print(f\"Molecular structure of MWL (SMILES) : \\n{canonical_smiles}\")\n",
    "print(f\"\\nMolecular weight (g/mol)           : {molecular_weight}\")\n",
    "print(f\"\\nFunctional group                   : {functional_groups}\")\n",
    "print(f\"\\nPoly dispersity index (PDI)        : {pdi}\")\n",
    "\n",
    "\n",
    "# Perform the simulation and get the decomposed SMILES\n",
    "smi = simulate_DES_deployermization(smile, 1)\n",
    "mol_smi = Chem.MolFromSmiles(smi)\n",
    "\n",
    "# Output the results for DESL structure\n",
    "print(\"\\nOUTPUT\")\n",
    "print(\"======\")\n",
    "print(f\"Molecular structure of DESL (SMILES)             : \\n{smi}\")\n",
    "print(f\"\\tNumber of fragments  : {len(smi.split('.'))}\")\n",
    "print(\"\\t\" + \"\\n\\t\".join(smi.split('.')))\n",
    "\n",
    "# Calculate and print the total molecular weight and other properties for the fragments\n",
    "print(\n",
    "    f\"\\nTotal Molecular weight (g/mol) of all fragments : {int(Descriptors.ExactMolWt(mol_smi))}\")\n",
    "print(\n",
    "    f\"\\nFunctional group                                 : {find_functional_groups_counts(smi)}\")\n",
    "print(\n",
    "    f\"\\nPoly dispersity index (PDI)                      : {round(calculate_pdi(smi)[2], 1)}\")\n",
    "\n",
    "# Draw the molecule structure\n",
    "labels = ['Molecular structure of MWL',\n",
    "          'Molecular structure after simulation (DESL)']\n",
    "Draw.MolsToGridImage([mol, mol_smi], molsPerRow=2,\n",
    "                     subImgSize=(600, 600), legends=labels)"
   ]
  },
  {
   "cell_type": "code",
   "execution_count": null,
   "id": "761c1dc7-a96c-48c5-b5a3-102ae6236726",
   "metadata": {},
   "outputs": [],
   "source": []
  }
 ],
 "metadata": {
  "kernelspec": {
   "display_name": "Python 3",
   "language": "python",
   "name": "python3"
  },
  "language_info": {
   "codemirror_mode": {
    "name": "ipython",
    "version": 3
   },
   "file_extension": ".py",
   "mimetype": "text/x-python",
   "name": "python",
   "nbconvert_exporter": "python",
   "pygments_lexer": "ipython3",
   "version": "3.12.3"
  }
 },
 "nbformat": 4,
 "nbformat_minor": 5
}
